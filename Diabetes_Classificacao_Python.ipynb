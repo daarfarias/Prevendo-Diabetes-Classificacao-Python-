{
  "nbformat": 4,
  "nbformat_minor": 5,
  "metadata": {
    "kernelspec": {
      "display_name": "Python 3",
      "language": "python",
      "name": "python3"
    },
    "language_info": {
      "codemirror_mode": {
        "name": "ipython",
        "version": 3
      },
      "file_extension": ".py",
      "mimetype": "text/x-python",
      "name": "python",
      "nbconvert_exporter": "python",
      "pygments_lexer": "ipython3",
      "version": "3.8.5"
    },
    "colab": {
      "name": "Diabetes Classificacao - Python.ipynb",
      "provenance": [],
      "collapsed_sections": [
        "psychological-lotus"
      ]
    }
  },
  "cells": [
    {
      "cell_type": "markdown",
      "metadata": {
        "id": "dense-bargain"
      },
      "source": [
        "# PREVENDO DIABETES (PYTHON)"
      ],
      "id": "dense-bargain"
    },
    {
      "cell_type": "markdown",
      "metadata": {
        "id": "funky-strengthening"
      },
      "source": [
        "> *Este conjunto de dados é originalmente do Instituto Nacional de Diabetes e Doenças Digestivas e Renais. Seu objetivo é prever se um paciente tem diabetes ou não, com base em certas medidas diagnósticas incluídas no conjunto de dados. Várias restrições foram colocadas na seleção dessas instâncias de um banco de dados maior. Em particular, todos os pacientes aqui são mulheres com pelo menos 21 anos de herança indígena Pima.* <br>\n",
        "\n",
        "<br>\n",
        "Utilizamos os algorítmos Regressão Logística, Random Forest, Gradient Boosting, XGBoost\n",
        "<br>\n",
        "\n",
        "**Dataset:** https://www.kaggle.com/uciml/pima-indians-diabetes-database"
      ],
      "id": "funky-strengthening"
    },
    {
      "cell_type": "code",
      "metadata": {
        "colab": {
          "base_uri": "https://localhost:8080/"
        },
        "id": "bacterial-replication",
        "outputId": "4d91a7b9-6dc9-4742-8bea-301ee7c925b7"
      },
      "source": [
        "# Carregar pacotes\n",
        "import pandas as pd\n",
        "import matplotlib.pyplot as plt\n",
        "import seaborn as sns\n",
        "import numpy as np\n",
        "from sklearn.linear_model import LogisticRegression, LogisticRegressionCV\n",
        "from sklearn.metrics import classification_report, confusion_matrix, accuracy_score, roc_auc_score, roc_curve, auc\n",
        "from sklearn.model_selection import train_test_split\n",
        "from sklearn.preprocessing import StandardScaler\n",
        "from imblearn.over_sampling import SMOTE\n",
        "from sklearn.ensemble import GradientBoostingClassifier, RandomForestClassifier\n",
        "from sklearn.neighbors import KNeighborsClassifier\n",
        "from sklearn import svm, tree, metrics\n",
        "from xgboost import XGBClassifier"
      ],
      "id": "bacterial-replication",
      "execution_count": 1,
      "outputs": [
        {
          "output_type": "stream",
          "text": [
            "/usr/local/lib/python3.7/dist-packages/sklearn/externals/six.py:31: FutureWarning: The module is deprecated in version 0.21 and will be removed in version 0.23 since we've dropped support for Python 2.7. Please rely on the official version of six (https://pypi.org/project/six/).\n",
            "  \"(https://pypi.org/project/six/).\", FutureWarning)\n",
            "/usr/local/lib/python3.7/dist-packages/sklearn/utils/deprecation.py:144: FutureWarning: The sklearn.neighbors.base module is  deprecated in version 0.22 and will be removed in version 0.24. The corresponding classes / functions should instead be imported from sklearn.neighbors. Anything that cannot be imported from sklearn.neighbors is now part of the private API.\n",
            "  warnings.warn(message, FutureWarning)\n"
          ],
          "name": "stderr"
        }
      ]
    },
    {
      "cell_type": "code",
      "metadata": {
        "id": "filled-depth"
      },
      "source": [
        "# Importar dados\n",
        "df_diabetes= pd.read_csv(\"diabetes.csv\")"
      ],
      "id": "filled-depth",
      "execution_count": 2,
      "outputs": []
    },
    {
      "cell_type": "code",
      "metadata": {
        "colab": {
          "base_uri": "https://localhost:8080/"
        },
        "id": "advisory-database",
        "outputId": "08f06963-497e-4e60-cbc2-b3a8fd2a863c"
      },
      "source": [
        "# Informações gerais dos dados\n",
        "df_diabetes.info()"
      ],
      "id": "advisory-database",
      "execution_count": 3,
      "outputs": [
        {
          "output_type": "stream",
          "text": [
            "<class 'pandas.core.frame.DataFrame'>\n",
            "RangeIndex: 768 entries, 0 to 767\n",
            "Data columns (total 9 columns):\n",
            " #   Column                    Non-Null Count  Dtype  \n",
            "---  ------                    --------------  -----  \n",
            " 0   Pregnancies               768 non-null    int64  \n",
            " 1   Glucose                   768 non-null    int64  \n",
            " 2   BloodPressure             768 non-null    int64  \n",
            " 3   SkinThickness             768 non-null    int64  \n",
            " 4   Insulin                   768 non-null    int64  \n",
            " 5   BMI                       768 non-null    float64\n",
            " 6   DiabetesPedigreeFunction  768 non-null    float64\n",
            " 7   Age                       768 non-null    int64  \n",
            " 8   Outcome                   768 non-null    int64  \n",
            "dtypes: float64(2), int64(7)\n",
            "memory usage: 54.1 KB\n"
          ],
          "name": "stdout"
        }
      ]
    },
    {
      "cell_type": "code",
      "metadata": {
        "colab": {
          "base_uri": "https://localhost:8080/",
          "height": 204
        },
        "id": "paperback-study",
        "outputId": "879fe064-b3f6-4355-d1a7-4fcf3356b122"
      },
      "source": [
        "# Visualizar as cinco primeiras linhas do dataset\n",
        "df_diabetes.head()"
      ],
      "id": "paperback-study",
      "execution_count": 4,
      "outputs": [
        {
          "output_type": "execute_result",
          "data": {
            "text/html": [
              "<div>\n",
              "<style scoped>\n",
              "    .dataframe tbody tr th:only-of-type {\n",
              "        vertical-align: middle;\n",
              "    }\n",
              "\n",
              "    .dataframe tbody tr th {\n",
              "        vertical-align: top;\n",
              "    }\n",
              "\n",
              "    .dataframe thead th {\n",
              "        text-align: right;\n",
              "    }\n",
              "</style>\n",
              "<table border=\"1\" class=\"dataframe\">\n",
              "  <thead>\n",
              "    <tr style=\"text-align: right;\">\n",
              "      <th></th>\n",
              "      <th>Pregnancies</th>\n",
              "      <th>Glucose</th>\n",
              "      <th>BloodPressure</th>\n",
              "      <th>SkinThickness</th>\n",
              "      <th>Insulin</th>\n",
              "      <th>BMI</th>\n",
              "      <th>DiabetesPedigreeFunction</th>\n",
              "      <th>Age</th>\n",
              "      <th>Outcome</th>\n",
              "    </tr>\n",
              "  </thead>\n",
              "  <tbody>\n",
              "    <tr>\n",
              "      <th>0</th>\n",
              "      <td>6</td>\n",
              "      <td>148</td>\n",
              "      <td>72</td>\n",
              "      <td>35</td>\n",
              "      <td>0</td>\n",
              "      <td>33.6</td>\n",
              "      <td>0.627</td>\n",
              "      <td>50</td>\n",
              "      <td>1</td>\n",
              "    </tr>\n",
              "    <tr>\n",
              "      <th>1</th>\n",
              "      <td>1</td>\n",
              "      <td>85</td>\n",
              "      <td>66</td>\n",
              "      <td>29</td>\n",
              "      <td>0</td>\n",
              "      <td>26.6</td>\n",
              "      <td>0.351</td>\n",
              "      <td>31</td>\n",
              "      <td>0</td>\n",
              "    </tr>\n",
              "    <tr>\n",
              "      <th>2</th>\n",
              "      <td>8</td>\n",
              "      <td>183</td>\n",
              "      <td>64</td>\n",
              "      <td>0</td>\n",
              "      <td>0</td>\n",
              "      <td>23.3</td>\n",
              "      <td>0.672</td>\n",
              "      <td>32</td>\n",
              "      <td>1</td>\n",
              "    </tr>\n",
              "    <tr>\n",
              "      <th>3</th>\n",
              "      <td>1</td>\n",
              "      <td>89</td>\n",
              "      <td>66</td>\n",
              "      <td>23</td>\n",
              "      <td>94</td>\n",
              "      <td>28.1</td>\n",
              "      <td>0.167</td>\n",
              "      <td>21</td>\n",
              "      <td>0</td>\n",
              "    </tr>\n",
              "    <tr>\n",
              "      <th>4</th>\n",
              "      <td>0</td>\n",
              "      <td>137</td>\n",
              "      <td>40</td>\n",
              "      <td>35</td>\n",
              "      <td>168</td>\n",
              "      <td>43.1</td>\n",
              "      <td>2.288</td>\n",
              "      <td>33</td>\n",
              "      <td>1</td>\n",
              "    </tr>\n",
              "  </tbody>\n",
              "</table>\n",
              "</div>"
            ],
            "text/plain": [
              "   Pregnancies  Glucose  BloodPressure  ...  DiabetesPedigreeFunction  Age  Outcome\n",
              "0            6      148             72  ...                     0.627   50        1\n",
              "1            1       85             66  ...                     0.351   31        0\n",
              "2            8      183             64  ...                     0.672   32        1\n",
              "3            1       89             66  ...                     0.167   21        0\n",
              "4            0      137             40  ...                     2.288   33        1\n",
              "\n",
              "[5 rows x 9 columns]"
            ]
          },
          "metadata": {
            "tags": []
          },
          "execution_count": 4
        }
      ]
    },
    {
      "cell_type": "code",
      "metadata": {
        "colab": {
          "base_uri": "https://localhost:8080/",
          "height": 204
        },
        "id": "artificial-showcase",
        "outputId": "dbeaae11-1981-48c2-8339-e0fe807d38bb"
      },
      "source": [
        "# Visualizar as cinco últimas linhas do dataset\n",
        "df_diabetes.tail()"
      ],
      "id": "artificial-showcase",
      "execution_count": 5,
      "outputs": [
        {
          "output_type": "execute_result",
          "data": {
            "text/html": [
              "<div>\n",
              "<style scoped>\n",
              "    .dataframe tbody tr th:only-of-type {\n",
              "        vertical-align: middle;\n",
              "    }\n",
              "\n",
              "    .dataframe tbody tr th {\n",
              "        vertical-align: top;\n",
              "    }\n",
              "\n",
              "    .dataframe thead th {\n",
              "        text-align: right;\n",
              "    }\n",
              "</style>\n",
              "<table border=\"1\" class=\"dataframe\">\n",
              "  <thead>\n",
              "    <tr style=\"text-align: right;\">\n",
              "      <th></th>\n",
              "      <th>Pregnancies</th>\n",
              "      <th>Glucose</th>\n",
              "      <th>BloodPressure</th>\n",
              "      <th>SkinThickness</th>\n",
              "      <th>Insulin</th>\n",
              "      <th>BMI</th>\n",
              "      <th>DiabetesPedigreeFunction</th>\n",
              "      <th>Age</th>\n",
              "      <th>Outcome</th>\n",
              "    </tr>\n",
              "  </thead>\n",
              "  <tbody>\n",
              "    <tr>\n",
              "      <th>763</th>\n",
              "      <td>10</td>\n",
              "      <td>101</td>\n",
              "      <td>76</td>\n",
              "      <td>48</td>\n",
              "      <td>180</td>\n",
              "      <td>32.9</td>\n",
              "      <td>0.171</td>\n",
              "      <td>63</td>\n",
              "      <td>0</td>\n",
              "    </tr>\n",
              "    <tr>\n",
              "      <th>764</th>\n",
              "      <td>2</td>\n",
              "      <td>122</td>\n",
              "      <td>70</td>\n",
              "      <td>27</td>\n",
              "      <td>0</td>\n",
              "      <td>36.8</td>\n",
              "      <td>0.340</td>\n",
              "      <td>27</td>\n",
              "      <td>0</td>\n",
              "    </tr>\n",
              "    <tr>\n",
              "      <th>765</th>\n",
              "      <td>5</td>\n",
              "      <td>121</td>\n",
              "      <td>72</td>\n",
              "      <td>23</td>\n",
              "      <td>112</td>\n",
              "      <td>26.2</td>\n",
              "      <td>0.245</td>\n",
              "      <td>30</td>\n",
              "      <td>0</td>\n",
              "    </tr>\n",
              "    <tr>\n",
              "      <th>766</th>\n",
              "      <td>1</td>\n",
              "      <td>126</td>\n",
              "      <td>60</td>\n",
              "      <td>0</td>\n",
              "      <td>0</td>\n",
              "      <td>30.1</td>\n",
              "      <td>0.349</td>\n",
              "      <td>47</td>\n",
              "      <td>1</td>\n",
              "    </tr>\n",
              "    <tr>\n",
              "      <th>767</th>\n",
              "      <td>1</td>\n",
              "      <td>93</td>\n",
              "      <td>70</td>\n",
              "      <td>31</td>\n",
              "      <td>0</td>\n",
              "      <td>30.4</td>\n",
              "      <td>0.315</td>\n",
              "      <td>23</td>\n",
              "      <td>0</td>\n",
              "    </tr>\n",
              "  </tbody>\n",
              "</table>\n",
              "</div>"
            ],
            "text/plain": [
              "     Pregnancies  Glucose  ...  Age  Outcome\n",
              "763           10      101  ...   63        0\n",
              "764            2      122  ...   27        0\n",
              "765            5      121  ...   30        0\n",
              "766            1      126  ...   47        1\n",
              "767            1       93  ...   23        0\n",
              "\n",
              "[5 rows x 9 columns]"
            ]
          },
          "metadata": {
            "tags": []
          },
          "execution_count": 5
        }
      ]
    },
    {
      "cell_type": "code",
      "metadata": {
        "colab": {
          "base_uri": "https://localhost:8080/",
          "height": 297
        },
        "id": "pointed-marks",
        "outputId": "c209cdb8-d8d0-403e-828c-b54a94027aa2"
      },
      "source": [
        "# Estatística descritiva dos dados\n",
        "df_diabetes.describe()"
      ],
      "id": "pointed-marks",
      "execution_count": 6,
      "outputs": [
        {
          "output_type": "execute_result",
          "data": {
            "text/html": [
              "<div>\n",
              "<style scoped>\n",
              "    .dataframe tbody tr th:only-of-type {\n",
              "        vertical-align: middle;\n",
              "    }\n",
              "\n",
              "    .dataframe tbody tr th {\n",
              "        vertical-align: top;\n",
              "    }\n",
              "\n",
              "    .dataframe thead th {\n",
              "        text-align: right;\n",
              "    }\n",
              "</style>\n",
              "<table border=\"1\" class=\"dataframe\">\n",
              "  <thead>\n",
              "    <tr style=\"text-align: right;\">\n",
              "      <th></th>\n",
              "      <th>Pregnancies</th>\n",
              "      <th>Glucose</th>\n",
              "      <th>BloodPressure</th>\n",
              "      <th>SkinThickness</th>\n",
              "      <th>Insulin</th>\n",
              "      <th>BMI</th>\n",
              "      <th>DiabetesPedigreeFunction</th>\n",
              "      <th>Age</th>\n",
              "      <th>Outcome</th>\n",
              "    </tr>\n",
              "  </thead>\n",
              "  <tbody>\n",
              "    <tr>\n",
              "      <th>count</th>\n",
              "      <td>768.000000</td>\n",
              "      <td>768.000000</td>\n",
              "      <td>768.000000</td>\n",
              "      <td>768.000000</td>\n",
              "      <td>768.000000</td>\n",
              "      <td>768.000000</td>\n",
              "      <td>768.000000</td>\n",
              "      <td>768.000000</td>\n",
              "      <td>768.000000</td>\n",
              "    </tr>\n",
              "    <tr>\n",
              "      <th>mean</th>\n",
              "      <td>3.845052</td>\n",
              "      <td>120.894531</td>\n",
              "      <td>69.105469</td>\n",
              "      <td>20.536458</td>\n",
              "      <td>79.799479</td>\n",
              "      <td>31.992578</td>\n",
              "      <td>0.471876</td>\n",
              "      <td>33.240885</td>\n",
              "      <td>0.348958</td>\n",
              "    </tr>\n",
              "    <tr>\n",
              "      <th>std</th>\n",
              "      <td>3.369578</td>\n",
              "      <td>31.972618</td>\n",
              "      <td>19.355807</td>\n",
              "      <td>15.952218</td>\n",
              "      <td>115.244002</td>\n",
              "      <td>7.884160</td>\n",
              "      <td>0.331329</td>\n",
              "      <td>11.760232</td>\n",
              "      <td>0.476951</td>\n",
              "    </tr>\n",
              "    <tr>\n",
              "      <th>min</th>\n",
              "      <td>0.000000</td>\n",
              "      <td>0.000000</td>\n",
              "      <td>0.000000</td>\n",
              "      <td>0.000000</td>\n",
              "      <td>0.000000</td>\n",
              "      <td>0.000000</td>\n",
              "      <td>0.078000</td>\n",
              "      <td>21.000000</td>\n",
              "      <td>0.000000</td>\n",
              "    </tr>\n",
              "    <tr>\n",
              "      <th>25%</th>\n",
              "      <td>1.000000</td>\n",
              "      <td>99.000000</td>\n",
              "      <td>62.000000</td>\n",
              "      <td>0.000000</td>\n",
              "      <td>0.000000</td>\n",
              "      <td>27.300000</td>\n",
              "      <td>0.243750</td>\n",
              "      <td>24.000000</td>\n",
              "      <td>0.000000</td>\n",
              "    </tr>\n",
              "    <tr>\n",
              "      <th>50%</th>\n",
              "      <td>3.000000</td>\n",
              "      <td>117.000000</td>\n",
              "      <td>72.000000</td>\n",
              "      <td>23.000000</td>\n",
              "      <td>30.500000</td>\n",
              "      <td>32.000000</td>\n",
              "      <td>0.372500</td>\n",
              "      <td>29.000000</td>\n",
              "      <td>0.000000</td>\n",
              "    </tr>\n",
              "    <tr>\n",
              "      <th>75%</th>\n",
              "      <td>6.000000</td>\n",
              "      <td>140.250000</td>\n",
              "      <td>80.000000</td>\n",
              "      <td>32.000000</td>\n",
              "      <td>127.250000</td>\n",
              "      <td>36.600000</td>\n",
              "      <td>0.626250</td>\n",
              "      <td>41.000000</td>\n",
              "      <td>1.000000</td>\n",
              "    </tr>\n",
              "    <tr>\n",
              "      <th>max</th>\n",
              "      <td>17.000000</td>\n",
              "      <td>199.000000</td>\n",
              "      <td>122.000000</td>\n",
              "      <td>99.000000</td>\n",
              "      <td>846.000000</td>\n",
              "      <td>67.100000</td>\n",
              "      <td>2.420000</td>\n",
              "      <td>81.000000</td>\n",
              "      <td>1.000000</td>\n",
              "    </tr>\n",
              "  </tbody>\n",
              "</table>\n",
              "</div>"
            ],
            "text/plain": [
              "       Pregnancies     Glucose  ...         Age     Outcome\n",
              "count   768.000000  768.000000  ...  768.000000  768.000000\n",
              "mean      3.845052  120.894531  ...   33.240885    0.348958\n",
              "std       3.369578   31.972618  ...   11.760232    0.476951\n",
              "min       0.000000    0.000000  ...   21.000000    0.000000\n",
              "25%       1.000000   99.000000  ...   24.000000    0.000000\n",
              "50%       3.000000  117.000000  ...   29.000000    0.000000\n",
              "75%       6.000000  140.250000  ...   41.000000    1.000000\n",
              "max      17.000000  199.000000  ...   81.000000    1.000000\n",
              "\n",
              "[8 rows x 9 columns]"
            ]
          },
          "metadata": {
            "tags": []
          },
          "execution_count": 6
        }
      ]
    },
    {
      "cell_type": "code",
      "metadata": {
        "colab": {
          "base_uri": "https://localhost:8080/"
        },
        "id": "promotional-software",
        "outputId": "1cdd7972-d694-441d-c9e0-8984194b21f5"
      },
      "source": [
        "# Checar NAs\n",
        "df_diabetes.isnull().sum()"
      ],
      "id": "promotional-software",
      "execution_count": 7,
      "outputs": [
        {
          "output_type": "execute_result",
          "data": {
            "text/plain": [
              "Pregnancies                 0\n",
              "Glucose                     0\n",
              "BloodPressure               0\n",
              "SkinThickness               0\n",
              "Insulin                     0\n",
              "BMI                         0\n",
              "DiabetesPedigreeFunction    0\n",
              "Age                         0\n",
              "Outcome                     0\n",
              "dtype: int64"
            ]
          },
          "metadata": {
            "tags": []
          },
          "execution_count": 7
        }
      ]
    },
    {
      "cell_type": "markdown",
      "metadata": {
        "id": "spanish-difficulty"
      },
      "source": [
        "## 2. LIMPEZA, TRANSFORMAÇÃO E ANÁLISE EXPLORATÓRIA DOS DADOS"
      ],
      "id": "spanish-difficulty"
    },
    {
      "cell_type": "markdown",
      "metadata": {
        "id": "efficient-participation"
      },
      "source": [
        "**2.1 Dicionário das Variáveis** <br>\n",
        "<br>\n",
        "**Pregnancies:** Número de vezes que engravidou <br>\n",
        "**Glucose:** Concentração de glicose plasmática após duas horas do teste <br>\n",
        "**BloodPressure:** Pressão arterial diastólica (mm Hg) <br>\n",
        "**SkinThickness:** Espessura da dobra de pele do tríceps (mm)v\n",
        "**Insulin:** Insulina sérica após 2 horas do teste <br>\n",
        "**BMI:** Índice de massa corporal <br>\n",
        "**DiabetesPedigreeFunction:** Função que mede tendência a partir do histórico familiar <br>\n",
        "**Age:** Idade <br>\n",
        "**Outcome:** variável dependente (0 e 1) <br>"
      ],
      "id": "efficient-participation"
    },
    {
      "cell_type": "markdown",
      "metadata": {
        "id": "taken-waterproof"
      },
      "source": [
        "### Variáveis"
      ],
      "id": "taken-waterproof"
    },
    {
      "cell_type": "code",
      "metadata": {
        "colab": {
          "base_uri": "https://localhost:8080/",
          "height": 281
        },
        "id": "electronic-curve",
        "outputId": "03c99577-6f84-4a97-95ba-7ec7a06efe82"
      },
      "source": [
        "# Plotando variável Pregnancies\n",
        "plt.hist(df_diabetes[\"Pregnancies\"],bins=20,histtype=\"bar\",rwidth=.8,alpha=0.5)\n",
        "plt.title(\"Pregnancies\")\n",
        "plt.xlabel(\"\")\n",
        "plt.xticks(range(min(df_diabetes[\"Pregnancies\"]), max(df_diabetes[\"Pregnancies\"])+1))\n",
        "plt.show()"
      ],
      "id": "electronic-curve",
      "execution_count": 8,
      "outputs": [
        {
          "output_type": "display_data",
          "data": {
            "image/png": "[encoded data removed]",
            "text/plain": [
              "<Figure size 432x288 with 1 Axes>"
            ]
          },
          "metadata": {
            "tags": [],
            "needs_background": "light"
          }
        }
      ]
    },
    {
      "cell_type": "code",
      "metadata": {
        "colab": {
          "base_uri": "https://localhost:8080/",
          "height": 281
        },
        "id": "fresh-prerequisite",
        "outputId": "e6b27a32-73a6-4852-ecdc-223fa4383a90"
      },
      "source": [
        "# Plotando variável Glucose\n",
        "plt.hist(df_diabetes[\"Glucose\"],bins=20,histtype=\"bar\",rwidth=.8,alpha=0.5)\n",
        "plt.title(\"Glucose\")\n",
        "plt.xlabel(\"\")\n",
        "plt.show()"
      ],
      "id": "fresh-prerequisite",
      "execution_count": 9,
      "outputs": [
        {
          "output_type": "display_data",
          "data": {
            "image/png": "[encoded data removed]",
            "text/plain": [
              "<Figure size 432x288 with 1 Axes>"
            ]
          },
          "metadata": {
            "tags": [],
            "needs_background": "light"
          }
        }
      ]
    },
    {
      "cell_type": "code",
      "metadata": {
        "colab": {
          "base_uri": "https://localhost:8080/",
          "height": 281
        },
        "id": "fleet-closer",
        "outputId": "8c0746fb-ba58-4883-fcc9-5239fa47ecc3"
      },
      "source": [
        "# Plotando variável BloodPressure\n",
        "plt.hist(df_diabetes[\"BloodPressure\"],bins=20,histtype=\"bar\",rwidth=.8,alpha=0.5)\n",
        "plt.title(\"BloodPressure\")\n",
        "plt.xlabel(\"\")\n",
        "plt.show()"
      ],
      "id": "fleet-closer",
      "execution_count": 10,
      "outputs": [
        {
          "output_type": "display_data",
          "data": {
            "image/png": "[encoded data removed]",
            "text/plain": [
              "<Figure size 432x288 with 1 Axes>"
            ]
          },
          "metadata": {
            "tags": [],
            "needs_background": "light"
          }
        }
      ]
    },
    {
      "cell_type": "code",
      "metadata": {
        "colab": {
          "base_uri": "https://localhost:8080/",
          "height": 281
        },
        "id": "primary-alfred",
        "outputId": "6eb0cd94-deda-4700-e70a-734e71986b00"
      },
      "source": [
        "# Plotando variável SkinThickness\n",
        "plt.hist(df_diabetes[\"SkinThickness\"],bins=20,histtype=\"bar\",rwidth=.8,alpha=0.5)\n",
        "plt.title(\"SkinThickness\")\n",
        "plt.xlabel(\"\")\n",
        "plt.show()"
      ],
      "id": "primary-alfred",
      "execution_count": 11,
      "outputs": [
        {
          "output_type": "display_data",
          "data": {
            "image/png": "[encoded data removed]",
            "text/plain": [
              "<Figure size 432x288 with 1 Axes>"
            ]
          },
          "metadata": {
            "tags": [],
            "needs_background": "light"
          }
        }
      ]
    },
    {
      "cell_type": "code",
      "metadata": {
        "colab": {
          "base_uri": "https://localhost:8080/",
          "height": 281
        },
        "id": "civic-nancy",
        "outputId": "25c04cc2-a292-4bf2-a03e-f1e1dfd4ee82"
      },
      "source": [
        "# Plotando variável BMI\n",
        "plt.hist(df_diabetes[\"BMI\"],bins=20,histtype=\"bar\",rwidth=.8,alpha=0.5)\n",
        "plt.title(\"BMI\")\n",
        "plt.xlabel(\"\")\n",
        "plt.show()"
      ],
      "id": "civic-nancy",
      "execution_count": 12,
      "outputs": [
        {
          "output_type": "display_data",
          "data": {
            "image/png": "[encoded data removed]",
            "text/plain": [
              "<Figure size 432x288 with 1 Axes>"
            ]
          },
          "metadata": {
            "tags": [],
            "needs_background": "light"
          }
        }
      ]
    },
    {
      "cell_type": "code",
      "metadata": {
        "colab": {
          "base_uri": "https://localhost:8080/",
          "height": 281
        },
        "id": "hourly-stanley",
        "outputId": "5cf06658-527b-43e8-e424-e7d1b0cfa2b1"
      },
      "source": [
        "# Plotando variável DiabetesPedigreeFunction\n",
        "plt.hist(df_diabetes[\"DiabetesPedigreeFunction\"],bins=20,histtype=\"bar\",rwidth=.8,alpha=0.5)\n",
        "plt.title(\"DiabetesPedigreeFunction\")\n",
        "plt.xlabel(\"\")\n",
        "plt.show()"
      ],
      "id": "hourly-stanley",
      "execution_count": 13,
      "outputs": [
        {
          "output_type": "display_data",
          "data": {
            "image/png": "[encoded data removed]",
            "text/plain": [
              "<Figure size 432x288 with 1 Axes>"
            ]
          },
          "metadata": {
            "tags": [],
            "needs_background": "light"
          }
        }
      ]
    },
    {
      "cell_type": "code",
      "metadata": {
        "colab": {
          "base_uri": "https://localhost:8080/",
          "height": 281
        },
        "id": "attended-azerbaijan",
        "outputId": "98d4b63c-51b1-42e1-8c39-b93f5d23fea4"
      },
      "source": [
        "# Plotando variável Age\n",
        "plt.hist(df_diabetes[\"Age\"],bins=20,histtype=\"bar\",rwidth=.8,alpha=0.5)\n",
        "plt.title(\"Age\")\n",
        "plt.xlabel(\"\")\n",
        "plt.show()"
      ],
      "id": "attended-azerbaijan",
      "execution_count": 14,
      "outputs": [
        {
          "output_type": "display_data",
          "data": {
            "image/png": "[encoded data removed]",
            "text/plain": [
              "<Figure size 432x288 with 1 Axes>"
            ]
          },
          "metadata": {
            "tags": [],
            "needs_background": "light"
          }
        }
      ]
    },
    {
      "cell_type": "code",
      "metadata": {
        "colab": {
          "base_uri": "https://localhost:8080/",
          "height": 335
        },
        "id": "outer-transparency",
        "outputId": "32a751a9-aba3-41c2-b4c3-0165b6b8260a"
      },
      "source": [
        "# Plotando variável Outcome\n",
        "sns.countplot(df_diabetes[\"Outcome\"])\n",
        "plt.title(\"Outcome\")\n",
        "plt.ylabel(\"\")\n",
        "plt.xlabel(\"\")\n",
        "plt.show()"
      ],
      "id": "outer-transparency",
      "execution_count": 15,
      "outputs": [
        {
          "output_type": "stream",
          "text": [
            "/usr/local/lib/python3.7/dist-packages/seaborn/_decorators.py:43: FutureWarning: Pass the following variable as a keyword arg: x. From version 0.12, the only valid positional argument will be `data`, and passing other arguments without an explicit keyword will result in an error or misinterpretation.\n",
            "  FutureWarning\n"
          ],
          "name": "stderr"
        },
        {
          "output_type": "display_data",
          "data": {
            "image/png": "[encoded data removed]",
            "text/plain": [
              "<Figure size 432x288 with 1 Axes>"
            ]
          },
          "metadata": {
            "tags": [],
            "needs_background": "light"
          }
        }
      ]
    },
    {
      "cell_type": "markdown",
      "metadata": {
        "id": "initial-sacramento"
      },
      "source": [
        "### 2.3 Limpando e Transformando Variáveis"
      ],
      "id": "initial-sacramento"
    },
    {
      "cell_type": "markdown",
      "metadata": {
        "id": "ecological-removal"
      },
      "source": [
        "Algumas variáveis possuem valores estranhos e devemos tomar uma decisão sobre como proceder.\n",
        "\n",
        "* Pregnancies: uma observação possui o valor de 17. Embora seja incomum, é possível que uma mulher tenha 17 gravidezes. Optamos por não realizar nenhum procedimento. <br>\n",
        "* As variáveis Glucose (5), Bloodpressure (35), SkinThickness (227), Insulin (374) e BMI (11) possuem observações com valor zero. Dado suas características devemos realizar alterações. Iremos substituir os valores zero pela sua média."
      ],
      "id": "ecological-removal"
    },
    {
      "cell_type": "markdown",
      "metadata": {
        "id": "surprised-lawsuit"
      },
      "source": [
        "## 3. CONSTRUINDO MODELO"
      ],
      "id": "surprised-lawsuit"
    },
    {
      "cell_type": "code",
      "metadata": {
        "id": "russian-harvey"
      },
      "source": [
        "# Variáveis independentes\n",
        "X = df_diabetes.drop(\"Outcome\", axis = 1)"
      ],
      "id": "russian-harvey",
      "execution_count": 16,
      "outputs": []
    },
    {
      "cell_type": "code",
      "metadata": {
        "id": "another-parcel"
      },
      "source": [
        "# Substituindo valores 0 em X pela média\n",
        "X.replace(0,X.mean(axis=0),inplace=True)"
      ],
      "id": "another-parcel",
      "execution_count": 17,
      "outputs": []
    },
    {
      "cell_type": "code",
      "metadata": {
        "id": "promising-circular"
      },
      "source": [
        "# Variável dependente\n",
        "y= df_diabetes[\"Outcome\"]"
      ],
      "id": "promising-circular",
      "execution_count": 18,
      "outputs": []
    },
    {
      "cell_type": "code",
      "metadata": {
        "colab": {
          "base_uri": "https://localhost:8080/"
        },
        "id": "blind-press",
        "outputId": "e2d9a730-92e4-4507-868f-86e588be96bc"
      },
      "source": [
        "# Visualizando as dimensões de X e y\n",
        "print(X.shape,y.shape)"
      ],
      "id": "blind-press",
      "execution_count": 19,
      "outputs": [
        {
          "output_type": "stream",
          "text": [
            "(768, 8) (768,)\n"
          ],
          "name": "stdout"
        }
      ]
    },
    {
      "cell_type": "code",
      "metadata": {
        "colab": {
          "base_uri": "https://localhost:8080/"
        },
        "id": "ZMAahppauI6M",
        "outputId": "37dd2b69-9c02-45a4-a824-b123e228e64c"
      },
      "source": [
        "# Aplicar SMOTE\n",
        "smote_bal= SMOTE()\n",
        "X_res,y_res= smote_bal.fit_resample(X,y)"
      ],
      "id": "ZMAahppauI6M",
      "execution_count": 20,
      "outputs": [
        {
          "output_type": "stream",
          "text": [
            "/usr/local/lib/python3.7/dist-packages/sklearn/utils/deprecation.py:87: FutureWarning: Function safe_indexing is deprecated; safe_indexing is deprecated in version 0.22 and will be removed in version 0.24.\n",
            "  warnings.warn(msg, category=FutureWarning)\n"
          ],
          "name": "stderr"
        }
      ]
    },
    {
      "cell_type": "code",
      "metadata": {
        "id": "qBEfn7-h41n4"
      },
      "source": [
        "# Separar dados em treino e teste\n",
        "X_train, X_test, y_train, y_test = train_test_split(X_res,y_res,test_size=0.3)"
      ],
      "id": "qBEfn7-h41n4",
      "execution_count": 21,
      "outputs": []
    },
    {
      "cell_type": "code",
      "metadata": {
        "id": "jotOkw0EOXf2"
      },
      "source": [
        "# Padronizando os dados\n",
        "sc = StandardScaler()\n",
        "X_train = sc.fit_transform(X_train)\n",
        "X_test = sc.transform (X_test)"
      ],
      "id": "jotOkw0EOXf2",
      "execution_count": 22,
      "outputs": []
    },
    {
      "cell_type": "markdown",
      "metadata": {
        "id": "psychological-lotus"
      },
      "source": [
        "### MODELOS"
      ],
      "id": "psychological-lotus"
    },
    {
      "cell_type": "markdown",
      "metadata": {
        "id": "acoustic-blowing"
      },
      "source": [
        "### Regressão Logística"
      ],
      "id": "acoustic-blowing"
    },
    {
      "cell_type": "code",
      "metadata": {
        "id": "oriented-valve"
      },
      "source": [
        "# Construindo modelo 1\n",
        "model_v1= LogisticRegression().fit(X_train, y_train)"
      ],
      "id": "oriented-valve",
      "execution_count": 23,
      "outputs": []
    },
    {
      "cell_type": "code",
      "metadata": {
        "id": "martial-forge"
      },
      "source": [
        "# Fazendo previsões\n",
        "glm_pred_v1= model_v1.predict(X_test)"
      ],
      "id": "martial-forge",
      "execution_count": 24,
      "outputs": []
    },
    {
      "cell_type": "code",
      "metadata": {
        "colab": {
          "base_uri": "https://localhost:8080/",
          "height": 319
        },
        "id": "sXARK-xguuHh",
        "outputId": "730667d0-6924-49aa-83c9-87c6a7dc297c"
      },
      "source": [
        "# Criando matriz de confusão\n",
        "confusion_matrix = metrics.confusion_matrix(y_test, glm_pred_v1)\n",
        "# Transformando em dataframe\n",
        "matrix_df = pd.DataFrame(confusion_matrix)\n",
        "# Plotando matriz de confusão\n",
        "ax = plt.axes()\n",
        "sns.set(font_scale=1.3)\n",
        "plt.figure(figsize=(10,7))\n",
        "sns.heatmap(matrix_df, annot=True, fmt=\"g\", ax=ax, cmap=\"magma\")\n",
        "ax.set_title('Confusion Matrix - Logistic Regression')\n",
        "ax.set_xlabel(\"Predicted label\", fontsize =15)\n",
        "ax.set_ylabel(\"True Label\", fontsize=15)\n",
        "plt.show()"
      ],
      "id": "sXARK-xguuHh",
      "execution_count": 25,
      "outputs": [
        {
          "output_type": "display_data",
          "data": {
            "image/png": "[encoded data removed]",
            "text/plain": [
              "<Figure size 432x288 with 2 Axes>"
            ]
          },
          "metadata": {
            "tags": [],
            "needs_background": "light"
          }
        },
        {
          "output_type": "display_data",
          "data": {
            "text/plain": [
              "<Figure size 720x504 with 0 Axes>"
            ]
          },
          "metadata": {
            "tags": []
          }
        }
      ]
    },
    {
      "cell_type": "code",
      "metadata": {
        "colab": {
          "base_uri": "https://localhost:8080/"
        },
        "id": "incredible-palestinian",
        "outputId": "a6b381f6-06f7-4498-b7ef-e76706beade8"
      },
      "source": [
        "# Relatório da classificação\n",
        "print(classification_report(y_test, glm_pred_v1))"
      ],
      "id": "incredible-palestinian",
      "execution_count": 26,
      "outputs": [
        {
          "output_type": "stream",
          "text": [
            "              precision    recall  f1-score   support\n",
            "\n",
            "           0       0.83      0.79      0.81       164\n",
            "           1       0.76      0.81      0.78       136\n",
            "\n",
            "    accuracy                           0.80       300\n",
            "   macro avg       0.80      0.80      0.80       300\n",
            "weighted avg       0.80      0.80      0.80       300\n",
            "\n"
          ],
          "name": "stdout"
        }
      ]
    },
    {
      "cell_type": "code",
      "metadata": {
        "colab": {
          "base_uri": "https://localhost:8080/",
          "height": 296
        },
        "id": "QHj3PkOKwvaE",
        "outputId": "0e8209a5-25dd-46d6-90ca-4de3a0684104"
      },
      "source": [
        "# Plotando curva ROC\n",
        "fpr,tpr,threshold=roc_curve(y_test,glm_pred_v1) \n",
        "roc_auc=auc(fpr,tpr)   \n",
        "plt.plot(fpr,tpr,'b',label= 'AUC= %0.3f' % roc_auc) \n",
        "plt.legend(loc='lower right')\n",
        "plt.plot([0,1],[0,1],'r--')\n",
        "plt.xlim([0,1])\n",
        "plt.ylim([0,1])\n",
        "plt.ylabel('True Positive Rate')\n",
        "plt.xlabel('False Positive Rate')\n",
        "plt.show()"
      ],
      "id": "QHj3PkOKwvaE",
      "execution_count": 27,
      "outputs": [
        {
          "output_type": "display_data",
          "data": {
            "image/png": "[encoded data removed]",
            "text/plain": [
              "<Figure size 432x288 with 1 Axes>"
            ]
          },
          "metadata": {
            "tags": []
          }
        }
      ]
    },
    {
      "cell_type": "markdown",
      "metadata": {
        "id": "private-counter"
      },
      "source": [
        "### XGBoost"
      ],
      "id": "private-counter"
    },
    {
      "cell_type": "code",
      "metadata": {
        "id": "9iqXGgqhxC4g"
      },
      "source": [
        "# Construindo modelo 2\n",
        "clc_XGB= XGBClassifier()\n",
        "modelXGB_v1= clc_XGB.fit(X_train,y_train)"
      ],
      "id": "9iqXGgqhxC4g",
      "execution_count": 28,
      "outputs": []
    },
    {
      "cell_type": "code",
      "metadata": {
        "id": "ysTVadUHxDwe"
      },
      "source": [
        "# Fazendo previsões XGBoost\n",
        "predXGB_v1= modelXGB_v1.predict(X_test)"
      ],
      "id": "ysTVadUHxDwe",
      "execution_count": 29,
      "outputs": []
    },
    {
      "cell_type": "code",
      "metadata": {
        "colab": {
          "base_uri": "https://localhost:8080/",
          "height": 326
        },
        "id": "e82INrEcxDwe",
        "outputId": "0b2805b7-159d-49a6-930f-8a10a3da39de"
      },
      "source": [
        "# Criando matriz de confusão\n",
        "confusion_matrix = metrics.confusion_matrix(y_test, predXGB_v1)\n",
        "# Transformando em dataframe\n",
        "matrix_df = pd.DataFrame(confusion_matrix)\n",
        "# Plotando matriz de confusão\n",
        "ax = plt.axes()\n",
        "sns.set(font_scale=1.3)\n",
        "plt.figure(figsize=(10,7))\n",
        "sns.heatmap(matrix_df, annot=True, fmt=\"g\", ax=ax, cmap=\"magma\")\n",
        "ax.set_title('Confusion Matrix - Logistic Regression')\n",
        "ax.set_xlabel(\"Predicted label\", fontsize =15)\n",
        "ax.set_ylabel(\"True Label\", fontsize=15)\n",
        "plt.show()"
      ],
      "id": "e82INrEcxDwe",
      "execution_count": 30,
      "outputs": [
        {
          "output_type": "display_data",
          "data": {
            "image/png": "[encoded data removed]",
            "text/plain": [
              "<Figure size 432x288 with 2 Axes>"
            ]
          },
          "metadata": {
            "tags": []
          }
        },
        {
          "output_type": "display_data",
          "data": {
            "text/plain": [
              "<Figure size 720x504 with 0 Axes>"
            ]
          },
          "metadata": {
            "tags": []
          }
        }
      ]
    },
    {
      "cell_type": "code",
      "metadata": {
        "colab": {
          "base_uri": "https://localhost:8080/"
        },
        "id": "5mjTl_OvxDwf",
        "outputId": "70c32436-43ff-430e-f548-cb3df1cdb57d"
      },
      "source": [
        "# Relatório da classificação\n",
        "print(classification_report(y_test, predXGB_v1))"
      ],
      "id": "5mjTl_OvxDwf",
      "execution_count": 31,
      "outputs": [
        {
          "output_type": "stream",
          "text": [
            "              precision    recall  f1-score   support\n",
            "\n",
            "           0       0.86      0.74      0.80       164\n",
            "           1       0.73      0.86      0.79       136\n",
            "\n",
            "    accuracy                           0.79       300\n",
            "   macro avg       0.80      0.80      0.79       300\n",
            "weighted avg       0.80      0.79      0.79       300\n",
            "\n"
          ],
          "name": "stdout"
        }
      ]
    },
    {
      "cell_type": "code",
      "metadata": {
        "colab": {
          "base_uri": "https://localhost:8080/",
          "height": 296
        },
        "id": "M5rbM4X0xDwf",
        "outputId": "b785f2e6-ec20-4a64-f9b9-01187b2a2f93"
      },
      "source": [
        "# Plotando curva ROC\n",
        "fpr,tpr,threshold=roc_curve(y_test,predXGB_v1) \n",
        "roc_auc=auc(fpr,tpr)   \n",
        "plt.plot(fpr,tpr,'b',label= 'AUC= %0.3f' % roc_auc) \n",
        "plt.legend(loc='lower right')\n",
        "plt.plot([0,1],[0,1],'r--')\n",
        "plt.xlim([0,1])\n",
        "plt.ylim([0,1])\n",
        "plt.ylabel('True Positive Rate')\n",
        "plt.xlabel('False Positive Rate')\n",
        "plt.show()"
      ],
      "id": "M5rbM4X0xDwf",
      "execution_count": 32,
      "outputs": [
        {
          "output_type": "display_data",
          "data": {
            "image/png": "[encoded data removed]",
            "text/plain": [
              "<Figure size 432x288 with 1 Axes>"
            ]
          },
          "metadata": {
            "tags": []
          }
        }
      ]
    },
    {
      "cell_type": "markdown",
      "metadata": {
        "id": "veterinary-fancy"
      },
      "source": [
        "### Gradient Boosting"
      ],
      "id": "veterinary-fancy"
    },
    {
      "cell_type": "code",
      "metadata": {
        "id": "1hwqFdCOsgK2"
      },
      "source": [
        "# Criando modelo Gradient Boosting v1\n",
        "clc_gbc= GradientBoostingClassifier()\n",
        "modeloGBC_v1=clc_gbc.fit(X_train,y_train)"
      ],
      "id": "1hwqFdCOsgK2",
      "execution_count": 33,
      "outputs": []
    },
    {
      "cell_type": "code",
      "metadata": {
        "id": "Xatrt_1kBK47"
      },
      "source": [
        "# Fazendo previsões modelo 1\n",
        "predGBC_v1=modeloGBC_v1.predict(X_test)"
      ],
      "id": "Xatrt_1kBK47",
      "execution_count": 34,
      "outputs": []
    },
    {
      "cell_type": "code",
      "metadata": {
        "colab": {
          "base_uri": "https://localhost:8080/",
          "height": 326
        },
        "id": "YsXnclmYxIH8",
        "outputId": "24fc8655-5d85-4471-a154-0351abc134a9"
      },
      "source": [
        "# Criando matriz de confusão\n",
        "confusion_matrix = metrics.confusion_matrix(y_test, predGBC_v1)\n",
        "# Transformando em dataframe\n",
        "matrix_df = pd.DataFrame(confusion_matrix)\n",
        "# Plotando matriz de confusão\n",
        "ax = plt.axes()\n",
        "sns.set(font_scale=1.3)\n",
        "plt.figure(figsize=(10,7))\n",
        "sns.heatmap(matrix_df, annot=True, fmt=\"g\", ax=ax, cmap=\"magma\")\n",
        "ax.set_title('Confusion Matrix - Logistic Regression')\n",
        "ax.set_xlabel(\"Predicted label\", fontsize =15)\n",
        "ax.set_ylabel(\"True Label\", fontsize=15)\n",
        "plt.show()"
      ],
      "id": "YsXnclmYxIH8",
      "execution_count": 35,
      "outputs": [
        {
          "output_type": "display_data",
          "data": {
            "image/png": "[encoded data removed]",
            "text/plain": [
              "<Figure size 432x288 with 2 Axes>"
            ]
          },
          "metadata": {
            "tags": []
          }
        },
        {
          "output_type": "display_data",
          "data": {
            "text/plain": [
              "<Figure size 720x504 with 0 Axes>"
            ]
          },
          "metadata": {
            "tags": []
          }
        }
      ]
    },
    {
      "cell_type": "code",
      "metadata": {
        "colab": {
          "base_uri": "https://localhost:8080/"
        },
        "id": "UlCuUcZPxIH9",
        "outputId": "2e17fe33-e8c2-498e-8f8d-2b8e15332cd6"
      },
      "source": [
        "# Relatório da classificação\n",
        "print(classification_report(y_test, predGBC_v1))"
      ],
      "id": "UlCuUcZPxIH9",
      "execution_count": 36,
      "outputs": [
        {
          "output_type": "stream",
          "text": [
            "              precision    recall  f1-score   support\n",
            "\n",
            "           0       0.87      0.76      0.81       164\n",
            "           1       0.75      0.86      0.80       136\n",
            "\n",
            "    accuracy                           0.81       300\n",
            "   macro avg       0.81      0.81      0.81       300\n",
            "weighted avg       0.81      0.81      0.81       300\n",
            "\n"
          ],
          "name": "stdout"
        }
      ]
    },
    {
      "cell_type": "code",
      "metadata": {
        "colab": {
          "base_uri": "https://localhost:8080/",
          "height": 296
        },
        "id": "q6OzPTyyxIH9",
        "outputId": "eba7aa1e-b3bf-404c-86c0-792f55cd55de"
      },
      "source": [
        "# Plotando curva ROC\n",
        "fpr,tpr,threshold=roc_curve(y_test,predGBC_v1) \n",
        "roc_auc=auc(fpr,tpr)   \n",
        "plt.plot(fpr,tpr,'b',label= 'AUC= %0.3f' % roc_auc) \n",
        "plt.legend(loc='lower right')\n",
        "plt.plot([0,1],[0,1],'r--')\n",
        "plt.xlim([0,1])\n",
        "plt.ylim([0,1])\n",
        "plt.ylabel('True Positive Rate')\n",
        "plt.xlabel('False Positive Rate')\n",
        "plt.show()"
      ],
      "id": "q6OzPTyyxIH9",
      "execution_count": 37,
      "outputs": [
        {
          "output_type": "display_data",
          "data": {
            "image/png": "[encoded data removed]",
            "text/plain": [
              "<Figure size 432x288 with 1 Axes>"
            ]
          },
          "metadata": {
            "tags": []
          }
        }
      ]
    },
    {
      "cell_type": "markdown",
      "metadata": {
        "id": "nJTgGUfrxKT1"
      },
      "source": [
        "### Random Forest"
      ],
      "id": "nJTgGUfrxKT1"
    },
    {
      "cell_type": "code",
      "metadata": {
        "id": "hHk-57LxDmTx"
      },
      "source": [
        "# Criando modelo Random Forest v1\n",
        "clc_rf= RandomForestClassifier()\n",
        "modeloRF_v1= clc_rf.fit(X_train,y_train)"
      ],
      "id": "hHk-57LxDmTx",
      "execution_count": 38,
      "outputs": []
    },
    {
      "cell_type": "code",
      "metadata": {
        "id": "yxxBTR--xM7O"
      },
      "source": [
        "# Fazendo previsões\n",
        "predRF_v1= modeloRF_v1.predict(X_test)"
      ],
      "id": "yxxBTR--xM7O",
      "execution_count": 39,
      "outputs": []
    },
    {
      "cell_type": "code",
      "metadata": {
        "colab": {
          "base_uri": "https://localhost:8080/",
          "height": 326
        },
        "id": "K83knDlLxM7P",
        "outputId": "504caf25-c891-4b30-8649-0cb92258f76e"
      },
      "source": [
        "# Criando matriz de confusão\n",
        "confusion_matrix = metrics.confusion_matrix(y_test, predRF_v1)\n",
        "# Transformando em dataframe\n",
        "matrix_df = pd.DataFrame(confusion_matrix)\n",
        "# Plotando matriz de confusão\n",
        "ax = plt.axes()\n",
        "sns.set(font_scale=1.3)\n",
        "plt.figure(figsize=(10,7))\n",
        "sns.heatmap(matrix_df, annot=True, fmt=\"g\", ax=ax, cmap=\"magma\")\n",
        "ax.set_title('Confusion Matrix - Logistic Regression')\n",
        "ax.set_xlabel(\"Predicted label\", fontsize =15)\n",
        "ax.set_ylabel(\"True Label\", fontsize=15)\n",
        "plt.show()"
      ],
      "id": "K83knDlLxM7P",
      "execution_count": 40,
      "outputs": [
        {
          "output_type": "display_data",
          "data": {
            "image/png": "[encoded data removed]",
            "text/plain": [
              "<Figure size 432x288 with 2 Axes>"
            ]
          },
          "metadata": {
            "tags": []
          }
        },
        {
          "output_type": "display_data",
          "data": {
            "text/plain": [
              "<Figure size 720x504 with 0 Axes>"
            ]
          },
          "metadata": {
            "tags": []
          }
        }
      ]
    },
    {
      "cell_type": "code",
      "metadata": {
        "colab": {
          "base_uri": "https://localhost:8080/"
        },
        "id": "QZF6r-vNxM7P",
        "outputId": "d826c75a-e3ea-4543-8a9d-a87553d5b9ed"
      },
      "source": [
        "# Relatório da classificação\n",
        "print(classification_report(y_test, predRF_v1))"
      ],
      "id": "QZF6r-vNxM7P",
      "execution_count": 41,
      "outputs": [
        {
          "output_type": "stream",
          "text": [
            "              precision    recall  f1-score   support\n",
            "\n",
            "           0       0.89      0.79      0.83       164\n",
            "           1       0.77      0.88      0.82       136\n",
            "\n",
            "    accuracy                           0.83       300\n",
            "   macro avg       0.83      0.83      0.83       300\n",
            "weighted avg       0.84      0.83      0.83       300\n",
            "\n"
          ],
          "name": "stdout"
        }
      ]
    },
    {
      "cell_type": "code",
      "metadata": {
        "colab": {
          "base_uri": "https://localhost:8080/",
          "height": 296
        },
        "id": "J3c9--PGxM7Q",
        "outputId": "d6acd04e-c940-4a97-e583-b244898b988d"
      },
      "source": [
        "# Plotando curva ROC\n",
        "fpr,tpr,threshold=roc_curve(y_test,predRF_v1) \n",
        "roc_auc=auc(fpr,tpr)   \n",
        "plt.plot(fpr,tpr,'b',label= 'AUC= %0.3f' % roc_auc) \n",
        "plt.legend(loc='lower right')\n",
        "plt.plot([0,1],[0,1],'r--')\n",
        "plt.xlim([0,1])\n",
        "plt.ylim([0,1])\n",
        "plt.ylabel('True Positive Rate')\n",
        "plt.xlabel('False Positive Rate')\n",
        "plt.show()"
      ],
      "id": "J3c9--PGxM7Q",
      "execution_count": 42,
      "outputs": [
        {
          "output_type": "display_data",
          "data": {
            "image/png": "[encoded data removed]",
            "text/plain": [
              "<Figure size 432x288 with 1 Axes>"
            ]
          },
          "metadata": {
            "tags": []
          }
        }
      ]
    },
    {
      "cell_type": "markdown",
      "metadata": {
        "id": "robust-moderator"
      },
      "source": [
        "DIEGO RAMIREZ <br>\n",
        "daarfarias@hotmail.com <br>\n",
        "https://github.com/daarfarias"
      ],
      "id": "robust-moderator"
    }
  ]
}